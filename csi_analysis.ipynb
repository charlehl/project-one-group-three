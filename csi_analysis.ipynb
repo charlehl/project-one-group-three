{
 "cells": [
  {
   "cell_type": "code",
   "execution_count": 1,
   "metadata": {
    "scrolled": true
   },
   "outputs": [],
   "source": [
    "# Dependencies and Setup\n",
    "import matplotlib.pyplot as plt\n",
    "import pandas as pd\n",
    "import numpy as np\n",
    "import requests\n",
    "import time\n",
    "import os\n",
    "import json\n",
    "import re\n",
    "\n",
    "import warnings\n",
    "warnings.filterwarnings('ignore')\n",
    "%matplotlib inline\n",
    "import scipy.stats as stats\n",
    "\n",
    "# Json file of travel advisories\n",
    "filepath = os.path.join(\"Resources\", \"csi.json\")"
   ]
  },
  {
   "cell_type": "markdown",
   "metadata": {},
   "source": [
    "# Read in CSV from Data Analysis"
   ]
  },
  {
   "cell_type": "code",
   "execution_count": 2,
   "metadata": {},
   "outputs": [],
   "source": [
    "# Read in csv from previous analysis to get top 10 cities\n",
    "travel_sorted_df = pd.read_csv(\"Resources/analysis.csv\")\n",
    "travel_sorted_df.head()\n",
    "# List of the top ten cities\n",
    "top_ten_cities = []\n",
    "top_ten_dest = travel_sorted_df[\"DEST_CITY_NAME\"].head(10)\n",
    "# City comes in form of <CITY_NAME>, <COUNTRY>\n",
    "for dest in top_ten_dest:\n",
    "    x = dest.split(\",\")\n",
    "    top_ten_cities.append(x[0])\n",
    "top_ten_cities\n",
    "top_ten_dest = travel_sorted_df[\"DEST_COUNTRY\"].head(10)\n",
    "# Country Tags extracted from analysis\n",
    "top_ten_country = [country for country in top_ten_dest]\n",
    "#top_ten_country\n",
    "#top_ten_cities"
   ]
  },
  {
   "cell_type": "markdown",
   "metadata": {},
   "source": [
    "# Read In Travel Advisory JSON (CKCJ)"
   ]
  },
  {
   "cell_type": "code",
   "execution_count": 3,
   "metadata": {},
   "outputs": [],
   "source": [
    "# Open JSON file and load\n",
    "with open(filepath, encoding='utf-8') as jsonfile:\n",
    "    travel_json = json.load(jsonfile)"
   ]
  },
  {
   "cell_type": "code",
   "execution_count": 4,
   "metadata": {},
   "outputs": [
    {
     "data": {
      "text/plain": [
       "dict_keys(['tag', 'geopoliticalarea', 'travel_transportation', 'health', 'local_laws_and_special_circumstances', 'safety_and_security', 'entry_exit_requirements', 'destination_description', 'iso_code', 'travel_embassyAndConsulate', 'last_update_date'])"
      ]
     },
     "execution_count": 4,
     "metadata": {},
     "output_type": "execute_result"
    }
   ],
   "source": [
    "# Examine keys\n",
    "travel_json[0].keys()"
   ]
  },
  {
   "cell_type": "code",
   "execution_count": 5,
   "metadata": {},
   "outputs": [
    {
     "data": {
      "text/plain": [
       "[132, 73, None, 37, 132, 139, 71, 56, 37, 132]"
      ]
     },
     "execution_count": 5,
     "metadata": {},
     "output_type": "execute_result"
    }
   ],
   "source": [
    "# Figure out if country city is in has a travel advisory\n",
    "country_index = []\n",
    "for country in top_ten_country:\n",
    "    global country_index\n",
    "    count = 0\n",
    "    index = None\n",
    "    for travel in travel_json:\n",
    "        if travel['tag'] == country:\n",
    "            #print(count)\n",
    "            index = count\n",
    "            break;\n",
    "        count += 1\n",
    "    if(index != None):\n",
    "        country_index.append(count)\n",
    "    else:\n",
    "        country_index.append(None)\n",
    "# Index in json list of countries, None means no mention\n",
    "country_index"
   ]
  },
  {
   "cell_type": "code",
   "execution_count": 6,
   "metadata": {},
   "outputs": [],
   "source": [
    "# Function to search for a string in a line of text.  Returns None if no mention\n",
    "def findWholeWord(w):\n",
    "    return re.compile(r'\\b({0})\\b'.format(w), flags=re.IGNORECASE).search"
   ]
  },
  {
   "cell_type": "code",
   "execution_count": 7,
   "metadata": {},
   "outputs": [
    {
     "data": {
      "text/plain": [
       "'Last Updated: September 23, 2014       '"
      ]
     },
     "execution_count": 7,
     "metadata": {},
     "output_type": "execute_result"
    }
   ],
   "source": [
    "# Example of date format attached to travel advisory\n",
    "temp = travel_json[0]['last_update_date']\n",
    "temp"
   ]
  },
  {
   "cell_type": "code",
   "execution_count": 8,
   "metadata": {},
   "outputs": [],
   "source": [
    "# Function to get a (month, year) tuple to use for tttest\n",
    "def getMonthYear(update):\n",
    "    monthIndex = None\n",
    "    yearIndex = None\n",
    "    x = update.split(\" \")\n",
    "    if(x[2] == \"January\"):\n",
    "        monthIndex = 1\n",
    "    elif(x[2] == \"February\"):\n",
    "        monthIndex = 2\n",
    "    elif(x[2] == \"March\"):\n",
    "        monthIndex = 3\n",
    "    elif(x[2] == \"April\"):\n",
    "        monthIndex = 4\n",
    "    elif(x[2] == \"May\"):\n",
    "        monthIndex = 5\n",
    "    elif(x[2] == \"June\"):\n",
    "        monthIndex = 6\n",
    "    elif(x[2] == \"July\"):\n",
    "        monthIndex = 7\n",
    "    elif(x[2] == \"August\"):\n",
    "        monthIndex = 8\n",
    "    elif(x[2] == \"September\"):\n",
    "        monthIndex = 9\n",
    "    elif(x[2] == \"October\"):\n",
    "        monthIndex = 10\n",
    "    elif(x[2] == \"November\"):\n",
    "        monthIndex = 11\n",
    "    elif(x[2] == \"December\"):\n",
    "        monthIndex = 12\n",
    "    \n",
    "    yearIndex = int(x[4])\n",
    "    return(monthIndex, yearIndex)\n",
    "# End of function getMonthYear\n",
    "\n",
    "#monthTemp, yearTemp = getMonthYear(temp)"
   ]
  },
  {
   "cell_type": "markdown",
   "metadata": {},
   "source": [
    "# Figure out if city is mentioned in travel advisory\n",
    "Keep count of mention and create data structure."
   ]
  },
  {
   "cell_type": "code",
   "execution_count": 9,
   "metadata": {},
   "outputs": [
    {
     "data": {
      "text/plain": [
       "{'Cancun': [2, (2, 2015)],\n",
       " 'London': [0, (1, 2016)],\n",
       " 'Tokyo': [0, None],\n",
       " 'Toronto': [1, (10, 2014)],\n",
       " 'Mexico City': [5, (2, 2015)],\n",
       " 'Amsterdam': [3, (12, 2014)],\n",
       " 'Paris': [3, (2, 2016)],\n",
       " 'Punta Cana': [0, (1, 2015)],\n",
       " 'Vancouver': [1, (10, 2014)],\n",
       " 'San Jose del Cabo': [0, (2, 2015)]}"
      ]
     },
     "execution_count": 9,
     "metadata": {},
     "output_type": "execute_result"
    }
   ],
   "source": [
    "# Dictionary to hold results of json search\n",
    "# Keys are the city name, each entry is a list\n",
    "# First entry is number of mentions, second is month, year tuple of update in advisory\n",
    "top_ten_dict = {}\n",
    "\n",
    "for index in range(len(top_ten_country)):\n",
    "    countryCount = 0\n",
    "    city = top_ten_cities[index]\n",
    "    if country_index[index] != None:\n",
    "        if(findWholeWord(city)(travel_json[country_index[index]]['travel_transportation']) != None):\n",
    "            countryCount += 1\n",
    "        if(findWholeWord(city)(travel_json[country_index[index]]['health']) != None):\n",
    "            countryCount += 1\n",
    "        if(findWholeWord(city)(travel_json[country_index[index]]['local_laws_and_special_circumstances']) != None):\n",
    "            countryCount += 1\n",
    "        if(findWholeWord(city)(travel_json[country_index[index]]['safety_and_security']) != None):\n",
    "            countryCount += 1\n",
    "        if(findWholeWord(city)(travel_json[country_index[index]]['entry_exit_requirements']) != None):\n",
    "            countryCount += 1\n",
    "        month, year = getMonthYear(travel_json[country_index[index]]['last_update_date'])\n",
    "        top_ten_dict[top_ten_cities[index]] = [countryCount, (month, year)]\n",
    "    else:\n",
    "        top_ten_dict[top_ten_cities[index]] = [0, None]\n",
    "\n",
    "top_ten_dict"
   ]
  },
  {
   "cell_type": "markdown",
   "metadata": {},
   "source": [
    "# Read in the monthly aggregated data for Top 10 Countries"
   ]
  },
  {
   "cell_type": "code",
   "execution_count": 10,
   "metadata": {},
   "outputs": [
    {
     "data": {
      "text/html": [
       "<div>\n",
       "<style scoped>\n",
       "    .dataframe tbody tr th:only-of-type {\n",
       "        vertical-align: middle;\n",
       "    }\n",
       "\n",
       "    .dataframe tbody tr th {\n",
       "        vertical-align: top;\n",
       "    }\n",
       "\n",
       "    .dataframe thead th {\n",
       "        text-align: right;\n",
       "    }\n",
       "</style>\n",
       "<table border=\"1\" class=\"dataframe\">\n",
       "  <thead>\n",
       "    <tr style=\"text-align: right;\">\n",
       "      <th></th>\n",
       "      <th></th>\n",
       "      <th>DEST_COUNTRY</th>\n",
       "      <th>YEARLY_TOTAL</th>\n",
       "      <th>JAN</th>\n",
       "      <th>FEB</th>\n",
       "      <th>MAR</th>\n",
       "      <th>APR</th>\n",
       "      <th>MAY</th>\n",
       "      <th>JUN</th>\n",
       "      <th>JUL</th>\n",
       "      <th>AUG</th>\n",
       "      <th>SEP</th>\n",
       "      <th>OCT</th>\n",
       "      <th>NOV</th>\n",
       "      <th>DEC</th>\n",
       "    </tr>\n",
       "    <tr>\n",
       "      <th>DEST_CITY_NAME</th>\n",
       "      <th>YEAR</th>\n",
       "      <th></th>\n",
       "      <th></th>\n",
       "      <th></th>\n",
       "      <th></th>\n",
       "      <th></th>\n",
       "      <th></th>\n",
       "      <th></th>\n",
       "      <th></th>\n",
       "      <th></th>\n",
       "      <th></th>\n",
       "      <th></th>\n",
       "      <th></th>\n",
       "      <th></th>\n",
       "      <th></th>\n",
       "    </tr>\n",
       "  </thead>\n",
       "  <tbody>\n",
       "    <tr>\n",
       "      <th rowspan=\"5\" valign=\"top\">Amsterdam, Netherlands</th>\n",
       "      <th>2013</th>\n",
       "      <td>NL</td>\n",
       "      <td>1498533.0</td>\n",
       "      <td>89425.0</td>\n",
       "      <td>73576.0</td>\n",
       "      <td>104179.0</td>\n",
       "      <td>124295.0</td>\n",
       "      <td>155463.0</td>\n",
       "      <td>161462.0</td>\n",
       "      <td>148674.0</td>\n",
       "      <td>165006.0</td>\n",
       "      <td>146622.0</td>\n",
       "      <td>127654.0</td>\n",
       "      <td>96116.0</td>\n",
       "      <td>106061.0</td>\n",
       "    </tr>\n",
       "    <tr>\n",
       "      <th>2014</th>\n",
       "      <td>NL</td>\n",
       "      <td>1449692.0</td>\n",
       "      <td>92024.0</td>\n",
       "      <td>75205.0</td>\n",
       "      <td>103942.0</td>\n",
       "      <td>110880.0</td>\n",
       "      <td>142314.0</td>\n",
       "      <td>148705.0</td>\n",
       "      <td>132277.0</td>\n",
       "      <td>154280.0</td>\n",
       "      <td>150822.0</td>\n",
       "      <td>132861.0</td>\n",
       "      <td>100080.0</td>\n",
       "      <td>106302.0</td>\n",
       "    </tr>\n",
       "    <tr>\n",
       "      <th>2015</th>\n",
       "      <td>NL</td>\n",
       "      <td>1540559.0</td>\n",
       "      <td>92506.0</td>\n",
       "      <td>73814.0</td>\n",
       "      <td>102489.0</td>\n",
       "      <td>131397.0</td>\n",
       "      <td>158984.0</td>\n",
       "      <td>163851.0</td>\n",
       "      <td>148313.0</td>\n",
       "      <td>168319.0</td>\n",
       "      <td>161552.0</td>\n",
       "      <td>143006.0</td>\n",
       "      <td>94755.0</td>\n",
       "      <td>101573.0</td>\n",
       "    </tr>\n",
       "    <tr>\n",
       "      <th>2016</th>\n",
       "      <td>NL</td>\n",
       "      <td>1549281.0</td>\n",
       "      <td>90014.0</td>\n",
       "      <td>75229.0</td>\n",
       "      <td>110462.0</td>\n",
       "      <td>144508.0</td>\n",
       "      <td>161621.0</td>\n",
       "      <td>161598.0</td>\n",
       "      <td>147317.0</td>\n",
       "      <td>159403.0</td>\n",
       "      <td>152280.0</td>\n",
       "      <td>137474.0</td>\n",
       "      <td>98660.0</td>\n",
       "      <td>110715.0</td>\n",
       "    </tr>\n",
       "    <tr>\n",
       "      <th>2017</th>\n",
       "      <td>NL</td>\n",
       "      <td>1677886.0</td>\n",
       "      <td>93557.0</td>\n",
       "      <td>80137.0</td>\n",
       "      <td>118879.0</td>\n",
       "      <td>153882.0</td>\n",
       "      <td>177235.0</td>\n",
       "      <td>175705.0</td>\n",
       "      <td>159835.0</td>\n",
       "      <td>177119.0</td>\n",
       "      <td>168446.0</td>\n",
       "      <td>144774.0</td>\n",
       "      <td>110022.0</td>\n",
       "      <td>118295.0</td>\n",
       "    </tr>\n",
       "  </tbody>\n",
       "</table>\n",
       "</div>"
      ],
      "text/plain": [
       "                            DEST_COUNTRY  YEARLY_TOTAL      JAN      FEB  \\\n",
       "DEST_CITY_NAME         YEAR                                                \n",
       "Amsterdam, Netherlands 2013           NL     1498533.0  89425.0  73576.0   \n",
       "                       2014           NL     1449692.0  92024.0  75205.0   \n",
       "                       2015           NL     1540559.0  92506.0  73814.0   \n",
       "                       2016           NL     1549281.0  90014.0  75229.0   \n",
       "                       2017           NL     1677886.0  93557.0  80137.0   \n",
       "\n",
       "                                  MAR       APR       MAY       JUN       JUL  \\\n",
       "DEST_CITY_NAME         YEAR                                                     \n",
       "Amsterdam, Netherlands 2013  104179.0  124295.0  155463.0  161462.0  148674.0   \n",
       "                       2014  103942.0  110880.0  142314.0  148705.0  132277.0   \n",
       "                       2015  102489.0  131397.0  158984.0  163851.0  148313.0   \n",
       "                       2016  110462.0  144508.0  161621.0  161598.0  147317.0   \n",
       "                       2017  118879.0  153882.0  177235.0  175705.0  159835.0   \n",
       "\n",
       "                                  AUG       SEP       OCT       NOV       DEC  \n",
       "DEST_CITY_NAME         YEAR                                                    \n",
       "Amsterdam, Netherlands 2013  165006.0  146622.0  127654.0   96116.0  106061.0  \n",
       "                       2014  154280.0  150822.0  132861.0  100080.0  106302.0  \n",
       "                       2015  168319.0  161552.0  143006.0   94755.0  101573.0  \n",
       "                       2016  159403.0  152280.0  137474.0   98660.0  110715.0  \n",
       "                       2017  177119.0  168446.0  144774.0  110022.0  118295.0  "
      ]
     },
     "execution_count": 10,
     "metadata": {},
     "output_type": "execute_result"
    }
   ],
   "source": [
    "# Read in monthly analysis of passenger data for ttest\n",
    "monthly_data_df = pd.read_csv(\"Resources/analysis_monthly.csv\")\n",
    "# Organize to set index as city then year\n",
    "monthly_data_df = monthly_data_df.set_index(['DEST_CITY_NAME', 'YEAR'])\n",
    "monthly_data_df.head()"
   ]
  },
  {
   "cell_type": "markdown",
   "metadata": {},
   "source": [
    "# Running T-Test on Cities in Top Ten List (CKCJ)"
   ]
  },
  {
   "cell_type": "code",
   "execution_count": 11,
   "metadata": {},
   "outputs": [],
   "source": [
    "# Get the city name name to access data sheet to get passenger data\n",
    "top_ten_dest = travel_sorted_df[\"DEST_CITY_NAME\"].head(10)\n",
    "index = 0\n",
    "test_results = []\n",
    "for key in top_ten_dict.keys():\n",
    "    if(top_ten_dict[key][1] != None):\n",
    "        # Get data\n",
    "        temp_1 = monthly_data_df.loc[(top_ten_dest[index], top_ten_dict[key][1][1]-1), \"JAN\":\"DEC\"]\n",
    "        temp_2 = monthly_data_df.loc[(top_ten_dest[index], top_ten_dict[key][1][1]), \"JAN\":\"DEC\"]\n",
    "        temp_3 = monthly_data_df.loc[(top_ten_dest[index], top_ten_dict[key][1][1]+1), \"JAN\":\"DEC\"]\n",
    "        # Turn into a list so we can easily append and access\n",
    "        data_1 = [data for data in temp_1]\n",
    "        data_2 = [data for data in temp_2]\n",
    "        data_3 = [data for data in temp_3]\n",
    "        # append data\n",
    "        all_data = data_1 + data_2 + data_3\n",
    "        # Passenger data for year previous to travel advisory\n",
    "        data_before = []\n",
    "        # Passenger data for year following travel advisory\n",
    "        data_after = []\n",
    "        for x in range(top_ten_dict[key][1][0]-1, top_ten_dict[key][1][0]+11):\n",
    "            data_before.append(all_data[x])\n",
    "            data_after.append(all_data[x+12])\n",
    "        # Run ttest and append to test results\n",
    "        test_results.append(stats.ttest_ind(data_before, data_after, equal_var=False))\n",
    "    else:\n",
    "        # No mention in travel advisory so send result to None\n",
    "        test_results.append(None)\n",
    "    index += 1"
   ]
  },
  {
   "cell_type": "code",
   "execution_count": 12,
   "metadata": {},
   "outputs": [
    {
     "data": {
      "text/plain": [
       "{'Cancun': [2, (2, 2015)],\n",
       " 'London': [0, (1, 2016)],\n",
       " 'Tokyo': [0, None],\n",
       " 'Toronto': [1, (10, 2014)],\n",
       " 'Mexico City': [5, (2, 2015)],\n",
       " 'Amsterdam': [3, (12, 2014)],\n",
       " 'Paris': [3, (2, 2016)],\n",
       " 'Punta Cana': [0, (1, 2015)],\n",
       " 'Vancouver': [1, (10, 2014)],\n",
       " 'San Jose del Cabo': [0, (2, 2015)]}"
      ]
     },
     "execution_count": 12,
     "metadata": {},
     "output_type": "execute_result"
    }
   ],
   "source": [
    "top_ten_dict"
   ]
  },
  {
   "cell_type": "markdown",
   "metadata": {},
   "source": [
    "# T-Test Results (CKCJ)"
   ]
  },
  {
   "cell_type": "code",
   "execution_count": 13,
   "metadata": {},
   "outputs": [
    {
     "data": {
      "text/plain": [
       "[Ttest_indResult(statistic=-1.9029704607634663, pvalue=0.07025678050266695),\n",
       " Ttest_indResult(statistic=0.23876735659925447, pvalue=0.813519684137803),\n",
       " None,\n",
       " Ttest_indResult(statistic=0.31917182514250253, pvalue=0.7526600413095357),\n",
       " Ttest_indResult(statistic=-0.9768630430726404, pvalue=0.34028886066599473),\n",
       " Ttest_indResult(statistic=-0.6564344256710247, pvalue=0.518723845629995),\n",
       " Ttest_indResult(statistic=0.0963418597690272, pvalue=0.9241222398385391),\n",
       " Ttest_indResult(statistic=-1.356364466617244, pvalue=0.18907145847936957),\n",
       " Ttest_indResult(statistic=-0.5210313410089537, pvalue=0.6076548072319916),\n",
       " Ttest_indResult(statistic=-0.9824014513553352, pvalue=0.3412963408905325)]"
      ]
     },
     "execution_count": 13,
     "metadata": {},
     "output_type": "execute_result"
    }
   ],
   "source": [
    "test_results"
   ]
  },
  {
   "cell_type": "code",
   "execution_count": 14,
   "metadata": {},
   "outputs": [
    {
     "data": {
      "text/plain": [
       "[('Cancun', 0.07025678050266695),\n",
       " ('London', 0.813519684137803),\n",
       " ('Tokyo', None),\n",
       " ('Toronto', 0.7526600413095357),\n",
       " ('Mexico City', 0.34028886066599473),\n",
       " ('Amsterdam', 0.518723845629995),\n",
       " ('Paris', 0.9241222398385391),\n",
       " ('Punta Cana', 0.18907145847936957),\n",
       " ('Vancouver', 0.6076548072319916),\n",
       " ('San Jose del Cabo', 0.3412963408905325)]"
      ]
     },
     "execution_count": 14,
     "metadata": {},
     "output_type": "execute_result"
    }
   ],
   "source": [
    "pval_list = []\n",
    "for result in test_results:\n",
    "    if(result != None):\n",
    "        pval_list.append(result[1])\n",
    "    else:\n",
    "        pval_list.append(None)\n",
    "\n",
    "zipped = zip(top_ten_cities, pval_list)\n",
    "city_pval_list = list(zipped)\n",
    "city_pval_list"
   ]
  },
  {
   "cell_type": "code",
   "execution_count": null,
   "metadata": {},
   "outputs": [],
   "source": []
  }
 ],
 "metadata": {
  "anaconda-cloud": {},
  "kernelspec": {
   "display_name": "Python [conda env:PythonData]",
   "language": "python",
   "name": "conda-env-PythonData-py"
  },
  "language_info": {
   "codemirror_mode": {
    "name": "ipython",
    "version": 3
   },
   "file_extension": ".py",
   "mimetype": "text/x-python",
   "name": "python",
   "nbconvert_exporter": "python",
   "pygments_lexer": "ipython3",
   "version": "3.6.5"
  }
 },
 "nbformat": 4,
 "nbformat_minor": 2
}
