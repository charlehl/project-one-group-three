{
 "cells": [
  {
   "cell_type": "code",
   "execution_count": 13,
   "metadata": {
    "scrolled": true
   },
   "outputs": [],
   "source": [
    "# Dependencies and Setup\n",
    "import matplotlib.pyplot as plt\n",
    "import pandas as pd\n",
    "import numpy as np\n",
    "import requests\n",
    "import time\n",
    "import os\n",
    "import json\n",
    "import re\n",
    "\n",
    "from vaderSentiment.vaderSentiment import SentimentIntensityAnalyzer\n",
    "analyzer = SentimentIntensityAnalyzer()\n",
    "\n",
    "# Import API key\n",
    "from config import *\n",
    "\n",
    "filepath = os.path.join(\"Resources\", \"csi.json\")"
   ]
  },
  {
   "cell_type": "code",
   "execution_count": 53,
   "metadata": {},
   "outputs": [
    {
     "data": {
      "text/plain": [
       "['Cancun',\n",
       " 'London',\n",
       " 'Tokyo',\n",
       " 'Toronto',\n",
       " 'Mexico City',\n",
       " 'Amsterdam',\n",
       " 'Paris',\n",
       " 'Punta Cana',\n",
       " 'Vancouver',\n",
       " 'San Jose del Cabo']"
      ]
     },
     "execution_count": 53,
     "metadata": {},
     "output_type": "execute_result"
    }
   ],
   "source": [
    "travel_sorted_df = pd.read_csv(\"Resources/analysis.csv\")\n",
    "travel_sorted_df.head()\n",
    "top_ten_cities = []\n",
    "top_ten_dest = travel_sorted_df[\"DEST_CITY_NAME\"].head(10)\n",
    "for dest in top_ten_dest:\n",
    "    x = dest.split(\",\")\n",
    "    top_ten_cities.append(x[0])\n",
    "top_ten_cities\n",
    "top_ten_dest = travel_sorted_df[\"DEST_COUNTRY\"].head(10)\n",
    "top_ten_country = [country for country in top_ten_dest]\n",
    "top_ten_country\n",
    "top_ten_cities"
   ]
  },
  {
   "cell_type": "code",
   "execution_count": 5,
   "metadata": {},
   "outputs": [],
   "source": [
    "with open(filepath, encoding='utf-8') as jsonfile:\n",
    "    travel_json = json.load(jsonfile)"
   ]
  },
  {
   "cell_type": "code",
   "execution_count": 6,
   "metadata": {},
   "outputs": [
    {
     "data": {
      "text/plain": [
       "dict_keys(['tag', 'geopoliticalarea', 'travel_transportation', 'health', 'local_laws_and_special_circumstances', 'safety_and_security', 'entry_exit_requirements', 'destination_description', 'iso_code', 'travel_embassyAndConsulate', 'last_update_date'])"
      ]
     },
     "execution_count": 6,
     "metadata": {},
     "output_type": "execute_result"
    }
   ],
   "source": [
    "travel_json[0].keys()"
   ]
  },
  {
   "cell_type": "code",
   "execution_count": 49,
   "metadata": {},
   "outputs": [
    {
     "data": {
      "text/plain": [
       "[132, 73, None, 37, 132, 139, 71, 56, 37, 132]"
      ]
     },
     "execution_count": 49,
     "metadata": {},
     "output_type": "execute_result"
    }
   ],
   "source": [
    "country_index = []\n",
    "for country in top_ten_country:\n",
    "    global country_index\n",
    "    count = 0\n",
    "    index = None\n",
    "    for travel in travel_json:\n",
    "        if travel['tag'] == country:\n",
    "            #print(count)\n",
    "            index = count\n",
    "            break;\n",
    "        count += 1\n",
    "    if(index != None):\n",
    "        country_index.append(count)\n",
    "    else:\n",
    "        country_index.append(None)\n",
    "country_index"
   ]
  },
  {
   "cell_type": "code",
   "execution_count": 33,
   "metadata": {},
   "outputs": [
    {
     "data": {
      "text/plain": [
       "dict_keys(['tag', 'geopoliticalarea', 'travel_transportation', 'health', 'local_laws_and_special_circumstances', 'safety_and_security', 'entry_exit_requirements', 'destination_description', 'iso_code', 'travel_embassyAndConsulate', 'last_update_date'])"
      ]
     },
     "execution_count": 33,
     "metadata": {},
     "output_type": "execute_result"
    }
   ],
   "source": [
    "travel_json[0].keys()"
   ]
  },
  {
   "cell_type": "code",
   "execution_count": 14,
   "metadata": {},
   "outputs": [],
   "source": [
    "def findWholeWord(w):\n",
    "    return re.compile(r'\\b({0})\\b'.format(w), flags=re.IGNORECASE).search"
   ]
  },
  {
   "cell_type": "code",
   "execution_count": 24,
   "metadata": {},
   "outputs": [
    {
     "name": "stdout",
     "output_type": "stream",
     "text": [
      "None\n"
     ]
    }
   ],
   "source": [
    "temp = findWholeWord('Mexico1')(travel_json[132]['travel_transportation'])\n",
    "print(temp)"
   ]
  },
  {
   "cell_type": "code",
   "execution_count": 34,
   "metadata": {},
   "outputs": [
    {
     "data": {
      "text/plain": [
       "'Last Updated: September 23, 2014       '"
      ]
     },
     "execution_count": 34,
     "metadata": {},
     "output_type": "execute_result"
    }
   ],
   "source": [
    "temp = travel_json[0]['last_update_date']\n",
    "temp"
   ]
  },
  {
   "cell_type": "code",
   "execution_count": 51,
   "metadata": {},
   "outputs": [],
   "source": [
    "def getMonthYear(update):\n",
    "    monthIndex = None\n",
    "    yearIndex = None\n",
    "    x = update.split(\" \")\n",
    "    if(x[2] == \"January\"):\n",
    "        monthIndex = 1\n",
    "    elif(x[2] == \"February\"):\n",
    "        monthIndex = 2\n",
    "    elif(x[2] == \"March\"):\n",
    "        monthIndex = 3\n",
    "    elif(x[2] == \"April\"):\n",
    "        monthIndex = 4\n",
    "    elif(x[2] == \"May\"):\n",
    "        monthIndex = 5\n",
    "    elif(x[2] == \"June\"):\n",
    "        monthIndex = 6\n",
    "    elif(x[2] == \"July\"):\n",
    "        monthIndex = 7\n",
    "    elif(x[2] == \"August\"):\n",
    "        monthIndex = 8\n",
    "    elif(x[2] == \"September\"):\n",
    "        monthIndex = 9\n",
    "    elif(x[2] == \"October\"):\n",
    "        monthIndex = 10\n",
    "    elif(x[2] == \"November\"):\n",
    "        monthIndex = 11\n",
    "    elif(x[2] == \"December\"):\n",
    "        monthIndex = 12\n",
    "    \n",
    "    yearIndex = int(x[4])\n",
    "    return(monthIndex, yearIndex)\n",
    "# End of function getMonthYear\n",
    "\n",
    "#monthTemp, yearTemp = getMonthYear(temp)"
   ]
  },
  {
   "cell_type": "code",
   "execution_count": 56,
   "metadata": {},
   "outputs": [
    {
     "data": {
      "text/plain": [
       "{'Cancun': [1, (2, 2015)],\n",
       " 'London': [0, (1, 2016)],\n",
       " 'Tokyo': [0, None],\n",
       " 'Toronto': [1, (10, 2014)],\n",
       " 'Mexico City': [4, (2, 2015)],\n",
       " 'Amsterdam': [2, (12, 2014)],\n",
       " 'Paris': [2, (2, 2016)],\n",
       " 'Punta Cana': [0, (1, 2015)],\n",
       " 'Vancouver': [1, (10, 2014)],\n",
       " 'San Jose del Cabo': [0, (2, 2015)]}"
      ]
     },
     "execution_count": 56,
     "metadata": {},
     "output_type": "execute_result"
    }
   ],
   "source": [
    "top_ten_dict = {}\n",
    "\n",
    "for index in range(len(top_ten_country)):\n",
    "    countryCount = 0\n",
    "    city = top_ten_cities[index]\n",
    "    if country_index[index] != None:\n",
    "        if(findWholeWord(city)(travel_json[country_index[index]]['health']) != None):\n",
    "            countryCount += 1\n",
    "        if(findWholeWord(city)(travel_json[country_index[index]]['local_laws_and_special_circumstances']) != None):\n",
    "            countryCount += 1\n",
    "        if(findWholeWord(city)(travel_json[country_index[index]]['safety_and_security']) != None):\n",
    "            countryCount += 1\n",
    "        if(findWholeWord(city)(travel_json[country_index[index]]['entry_exit_requirements']) != None):\n",
    "            countryCount += 1\n",
    "        month, year = getMonthYear(travel_json[country_index[index]]['last_update_date'])\n",
    "        top_ten_dict[top_ten_cities[index]] = [countryCount, (month, year)]\n",
    "    else:\n",
    "        top_ten_dict[top_ten_cities[index]] = [0, None]\n",
    "\n",
    "top_ten_dict"
   ]
  },
  {
   "cell_type": "code",
   "execution_count": null,
   "metadata": {},
   "outputs": [],
   "source": []
  }
 ],
 "metadata": {
  "anaconda-cloud": {},
  "kernelspec": {
   "display_name": "Python [conda env:PythonData]",
   "language": "python",
   "name": "conda-env-PythonData-py"
  },
  "language_info": {
   "codemirror_mode": {
    "name": "ipython",
    "version": 3
   },
   "file_extension": ".py",
   "mimetype": "text/x-python",
   "name": "python",
   "nbconvert_exporter": "python",
   "pygments_lexer": "ipython3",
   "version": "3.6.5"
  }
 },
 "nbformat": 4,
 "nbformat_minor": 2
}
